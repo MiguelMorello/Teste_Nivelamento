{
 "cells": [
  {
   "cell_type": "code",
   "execution_count": 3,
   "metadata": {},
   "outputs": [
    {
     "name": "stdout",
     "output_type": "stream",
     "text": [
      "Arquivo ZIP gerado: Teste_{MiguelMorello}.zip\n"
     ]
    }
   ],
   "source": [
    "import pandas as pd\n",
    "import zipfile\n",
    "from tabula import read_pdf\n",
    "\n",
    "pdf_path = \"Anexo_I.pdf\"\n",
    "output_csv = \"dados_tratados.csv\"\n",
    "zip_name = \"Teste_{MiguelMorello}.zip\"\n",
    "\n",
    "dfs = read_pdf(pdf_path, pages=\"3-5\", multiple_tables=True)\n",
    "\n",
    "if dfs:\n",
    "    df_final = pd.concat(dfs, ignore_index=True)\n",
    "\n",
    "    df_final.replace({\"OD\": \"Seg. Odontológica\", \"AMB\": \"Seg. Ambulatorial\"}, inplace=True)\n",
    "    \n",
    "    df_final.to_csv(output_csv, index=False, encoding='utf-8')\n",
    "    \n",
    "    with zipfile.ZipFile(zip_name, 'w') as zipf:\n",
    "        zipf.write(output_csv)\n",
    "    \n",
    "    print(f\"Arquivo ZIP gerado: {zip_name}\")\n",
    "else:\n",
    "    print(\"Nenhuma tabela encontrada no PDF.\")"
   ]
  }
 ],
 "metadata": {
  "kernelspec": {
   "display_name": "Python 3",
   "language": "python",
   "name": "python3"
  },
  "language_info": {
   "codemirror_mode": {
    "name": "ipython",
    "version": 3
   },
   "file_extension": ".py",
   "mimetype": "text/x-python",
   "name": "python",
   "nbconvert_exporter": "python",
   "pygments_lexer": "ipython3",
   "version": "3.13.1"
  }
 },
 "nbformat": 4,
 "nbformat_minor": 2
}
