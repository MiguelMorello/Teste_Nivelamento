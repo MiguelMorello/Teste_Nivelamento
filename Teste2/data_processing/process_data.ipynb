{
 "cells": [
  {
   "cell_type": "code",
   "execution_count": null,
   "metadata": {},
   "outputs": [],
   "source": [
    "import pandas as pd\n",
    "import tabula\n",
    "import os"
   ]
  },
  {
   "cell_type": "code",
   "execution_count": 5,
   "metadata": {},
   "outputs": [
    {
     "name": "stdout",
     "output_type": "stream",
     "text": [
      "Caminho absoluto: c:\\Users\\guelm\\.vscode\\Teste_Nivelamento\\Teste_Nivelamento\\Teste2\\data_processing\\Anexo_I.pdf\n",
      "Arquivo encontrado! Tamanho: 13670394 bytes\n"
     ]
    }
   ],
   "source": [
    "pdf_path = os.path.abspath(\"Anexo_I.pdf\")\n",
    "print(f\"Caminho absoluto: {pdf_path}\")\n",
    "\n",
    "if os.path.exists(pdf_path):\n",
    "    print(f\"Arquivo encontrado! Tamanho: {os.path.getsize(pdf_path)} bytes\")\n",
    "else:\n",
    "    print(\"❌ O arquivo NÃO foi encontrado. Verifique o caminho.\")\n"
   ]
  }
 ],
 "metadata": {
  "kernelspec": {
   "display_name": "Python 3",
   "language": "python",
   "name": "python3"
  },
  "language_info": {
   "codemirror_mode": {
    "name": "ipython",
    "version": 3
   },
   "file_extension": ".py",
   "mimetype": "text/x-python",
   "name": "python",
   "nbconvert_exporter": "python",
   "pygments_lexer": "ipython3",
   "version": "3.13.1"
  }
 },
 "nbformat": 4,
 "nbformat_minor": 2
}
